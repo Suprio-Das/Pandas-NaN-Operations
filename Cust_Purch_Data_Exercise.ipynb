{
 "cells": [
  {
   "cell_type": "markdown",
   "metadata": {},
   "source": [
    "# Ecommerce Purchases Exercise Overview\n",
    "\n",
    "Hi Guys,<br>\n",
    "After a crash course on pandas for data analysis, its time to do some practice!!!<br>\n",
    "Because of privacy issues, I have created a fake dataset here with 30K entries. <br>\n",
    "The situation is, customers are providing some personal information while purchasing stuff on-line or in-store. For some reasons, your client wants to know the answer to some of his questions from the dataset, let's try to help him!.<br>\n",
    "\n",
    "*Feel free to consult the solutions if needed. Please note, the tasks given in the exercises, can be solved in different ways. Try your best answer and compare with the solutions.* <br>\n",
    "&#9758; The dataset is provided in the course downloads. "
   ]
  },
  {
   "cell_type": "markdown",
   "metadata": {},
   "source": [
    "**1. Import Pandas and Read the csv file.**"
   ]
  },
  {
   "cell_type": "code",
   "execution_count": 5,
   "metadata": {},
   "outputs": [],
   "source": [
    "import pandas as pd\n",
    "df = pd.read_csv(r'D:\\Data Science and Machine Learning Course\\Assignments\\Assignment-11\\Project Assignment\\Cust_Purch_FakeData.csv')"
   ]
  },
  {
   "cell_type": "markdown",
   "metadata": {},
   "source": [
    "**2. Its good idea to see how the data look like, display first 5 rows of your data-set.**"
   ]
  },
  {
   "cell_type": "code",
   "execution_count": 7,
   "metadata": {},
   "outputs": [
    {
     "data": {
      "text/html": [
       "<div>\n",
       "<style scoped>\n",
       "    .dataframe tbody tr th:only-of-type {\n",
       "        vertical-align: middle;\n",
       "    }\n",
       "\n",
       "    .dataframe tbody tr th {\n",
       "        vertical-align: top;\n",
       "    }\n",
       "\n",
       "    .dataframe thead th {\n",
       "        text-align: right;\n",
       "    }\n",
       "</style>\n",
       "<table border=\"1\" class=\"dataframe\">\n",
       "  <thead>\n",
       "    <tr style=\"text-align: right;\">\n",
       "      <th></th>\n",
       "      <th>prefix</th>\n",
       "      <th>first</th>\n",
       "      <th>last</th>\n",
       "      <th>email</th>\n",
       "      <th>gender</th>\n",
       "      <th>age</th>\n",
       "      <th>company</th>\n",
       "      <th>profession</th>\n",
       "      <th>phone</th>\n",
       "      <th>postal</th>\n",
       "      <th>province</th>\n",
       "      <th>cc_no</th>\n",
       "      <th>cc_exp</th>\n",
       "      <th>cc_type</th>\n",
       "      <th>price(CAD)</th>\n",
       "      <th>fav_color</th>\n",
       "      <th>ip</th>\n",
       "      <th>weekday</th>\n",
       "      <th>ampm</th>\n",
       "      <th>date</th>\n",
       "    </tr>\n",
       "  </thead>\n",
       "  <tbody>\n",
       "    <tr>\n",
       "      <th>0</th>\n",
       "      <td>Dr.</td>\n",
       "      <td>Ray</td>\n",
       "      <td>Morton</td>\n",
       "      <td>sebvajom@kol.km</td>\n",
       "      <td>Male</td>\n",
       "      <td>38</td>\n",
       "      <td>Medtronic Inc.</td>\n",
       "      <td>Health Therapist</td>\n",
       "      <td>(987) 619-2695</td>\n",
       "      <td>B6V 3W3</td>\n",
       "      <td>MB</td>\n",
       "      <td>5020000000000230</td>\n",
       "      <td>05/2018</td>\n",
       "      <td>Solo</td>\n",
       "      <td>8.36</td>\n",
       "      <td>Blue</td>\n",
       "      <td>126.23.139.2</td>\n",
       "      <td>Sunday</td>\n",
       "      <td>pm</td>\n",
       "      <td>04/05/1930</td>\n",
       "    </tr>\n",
       "    <tr>\n",
       "      <th>1</th>\n",
       "      <td>Miss</td>\n",
       "      <td>Claudia</td>\n",
       "      <td>Rodriquez</td>\n",
       "      <td>acu@jatsot.ug</td>\n",
       "      <td>Female</td>\n",
       "      <td>51</td>\n",
       "      <td>Ames Department Stores, Inc.</td>\n",
       "      <td>Health Therapist</td>\n",
       "      <td>(356) 736-7352</td>\n",
       "      <td>G7M 5F3</td>\n",
       "      <td>SK</td>\n",
       "      <td>5020000000000230</td>\n",
       "      <td>07/2028</td>\n",
       "      <td>Visa</td>\n",
       "      <td>68.31</td>\n",
       "      <td>Black</td>\n",
       "      <td>106.198.76.211</td>\n",
       "      <td>Tuesday</td>\n",
       "      <td>am</td>\n",
       "      <td>12/20/1926</td>\n",
       "    </tr>\n",
       "    <tr>\n",
       "      <th>2</th>\n",
       "      <td>Miss</td>\n",
       "      <td>Harry</td>\n",
       "      <td>Meyer</td>\n",
       "      <td>zuz@lo.wf</td>\n",
       "      <td>Female</td>\n",
       "      <td>51</td>\n",
       "      <td>CSX Corp.</td>\n",
       "      <td>Political Scientist</td>\n",
       "      <td>(539) 246-1806</td>\n",
       "      <td>A0Z 6P9</td>\n",
       "      <td>NS</td>\n",
       "      <td>6300000000000000</td>\n",
       "      <td>02/2023</td>\n",
       "      <td>Switch</td>\n",
       "      <td>34.65</td>\n",
       "      <td>Black</td>\n",
       "      <td>186.150.187.29</td>\n",
       "      <td>Wednesday</td>\n",
       "      <td>pm</td>\n",
       "      <td>08/20/1931</td>\n",
       "    </tr>\n",
       "    <tr>\n",
       "      <th>3</th>\n",
       "      <td>Miss</td>\n",
       "      <td>Edith</td>\n",
       "      <td>Gilbert</td>\n",
       "      <td>hansohsi@jupec.md</td>\n",
       "      <td>Female</td>\n",
       "      <td>55</td>\n",
       "      <td>Murphy Oil Corporation</td>\n",
       "      <td>Transportation Manager</td>\n",
       "      <td>(984) 962-7494</td>\n",
       "      <td>P9I 9H3</td>\n",
       "      <td>YT</td>\n",
       "      <td>3530000000000000</td>\n",
       "      <td>02/2028</td>\n",
       "      <td>Maestro</td>\n",
       "      <td>64.59</td>\n",
       "      <td>White</td>\n",
       "      <td>80.140.57.161</td>\n",
       "      <td>Saturday</td>\n",
       "      <td>am</td>\n",
       "      <td>06/18/2001</td>\n",
       "    </tr>\n",
       "    <tr>\n",
       "      <th>4</th>\n",
       "      <td>Dr.</td>\n",
       "      <td>Lura</td>\n",
       "      <td>Murphy</td>\n",
       "      <td>webediti@je.st</td>\n",
       "      <td>Female</td>\n",
       "      <td>20</td>\n",
       "      <td>PETsMART Inc</td>\n",
       "      <td>Statistician</td>\n",
       "      <td>(902) 568-9748</td>\n",
       "      <td>S1A 6K0</td>\n",
       "      <td>ON</td>\n",
       "      <td>4030000000000000</td>\n",
       "      <td>10/2025</td>\n",
       "      <td>Diners Club International</td>\n",
       "      <td>20.83</td>\n",
       "      <td>Yellow</td>\n",
       "      <td>211.103.43.41</td>\n",
       "      <td>Friday</td>\n",
       "      <td>pm</td>\n",
       "      <td>06/14/2045</td>\n",
       "    </tr>\n",
       "  </tbody>\n",
       "</table>\n",
       "</div>"
      ],
      "text/plain": [
       "  prefix    first       last              email  gender  age  \\\n",
       "0    Dr.      Ray     Morton    sebvajom@kol.km    Male   38   \n",
       "1   Miss  Claudia  Rodriquez      acu@jatsot.ug  Female   51   \n",
       "2   Miss    Harry      Meyer          zuz@lo.wf  Female   51   \n",
       "3   Miss    Edith    Gilbert  hansohsi@jupec.md  Female   55   \n",
       "4    Dr.     Lura     Murphy     webediti@je.st  Female   20   \n",
       "\n",
       "                        company              profession           phone  \\\n",
       "0                Medtronic Inc.        Health Therapist  (987) 619-2695   \n",
       "1  Ames Department Stores, Inc.        Health Therapist  (356) 736-7352   \n",
       "2                     CSX Corp.     Political Scientist  (539) 246-1806   \n",
       "3        Murphy Oil Corporation  Transportation Manager  (984) 962-7494   \n",
       "4                  PETsMART Inc            Statistician  (902) 568-9748   \n",
       "\n",
       "    postal province             cc_no   cc_exp                    cc_type  \\\n",
       "0  B6V 3W3       MB  5020000000000230  05/2018                       Solo   \n",
       "1  G7M 5F3       SK  5020000000000230  07/2028                       Visa   \n",
       "2  A0Z 6P9       NS  6300000000000000  02/2023                     Switch   \n",
       "3  P9I 9H3       YT  3530000000000000  02/2028                    Maestro   \n",
       "4  S1A 6K0       ON  4030000000000000  10/2025  Diners Club International   \n",
       "\n",
       "   price(CAD) fav_color              ip    weekday ampm        date  \n",
       "0        8.36      Blue    126.23.139.2     Sunday   pm  04/05/1930  \n",
       "1       68.31     Black  106.198.76.211    Tuesday   am  12/20/1926  \n",
       "2       34.65     Black  186.150.187.29  Wednesday   pm  08/20/1931  \n",
       "3       64.59     White   80.140.57.161   Saturday   am  06/18/2001  \n",
       "4       20.83    Yellow   211.103.43.41     Friday   pm  06/14/2045  "
      ]
     },
     "execution_count": 7,
     "metadata": {},
     "output_type": "execute_result"
    }
   ],
   "source": [
    "df.head()"
   ]
  },
  {
   "cell_type": "code",
   "execution_count": null,
   "metadata": {},
   "outputs": [],
   "source": []
  },
  {
   "cell_type": "markdown",
   "metadata": {},
   "source": [
    "**3. How many entries your data have? \n",
    "Can you tell the no. of columns in your data?**"
   ]
  },
  {
   "cell_type": "code",
   "execution_count": 9,
   "metadata": {},
   "outputs": [
    {
     "name": "stdout",
     "output_type": "stream",
     "text": [
      "<class 'pandas.core.frame.DataFrame'>\n",
      "RangeIndex: 30000 entries, 0 to 29999\n",
      "Data columns (total 20 columns):\n",
      " #   Column      Non-Null Count  Dtype  \n",
      "---  ------      --------------  -----  \n",
      " 0   prefix      30000 non-null  object \n",
      " 1   first       30000 non-null  object \n",
      " 2   last        30000 non-null  object \n",
      " 3   email       30000 non-null  object \n",
      " 4   gender      30000 non-null  object \n",
      " 5   age         30000 non-null  int64  \n",
      " 6   company     30000 non-null  object \n",
      " 7   profession  30000 non-null  object \n",
      " 8   phone       30000 non-null  object \n",
      " 9   postal      30000 non-null  object \n",
      " 10  province    30000 non-null  object \n",
      " 11  cc_no       30000 non-null  int64  \n",
      " 12  cc_exp      30000 non-null  object \n",
      " 13  cc_type     30000 non-null  object \n",
      " 14  price(CAD)  30000 non-null  float64\n",
      " 15  fav_color   30000 non-null  object \n",
      " 16  ip          30000 non-null  object \n",
      " 17  weekday     30000 non-null  object \n",
      " 18  ampm        30000 non-null  object \n",
      " 19  date        30000 non-null  object \n",
      "dtypes: float64(1), int64(2), object(17)\n",
      "memory usage: 4.6+ MB\n"
     ]
    }
   ],
   "source": [
    "df.info()"
   ]
  },
  {
   "cell_type": "code",
   "execution_count": null,
   "metadata": {},
   "outputs": [],
   "source": []
  },
  {
   "cell_type": "markdown",
   "metadata": {},
   "source": [
    "**4. What are the max and min ages of your customer? Can you find mean of your customer?**"
   ]
  },
  {
   "cell_type": "code",
   "execution_count": 11,
   "metadata": {},
   "outputs": [
    {
     "name": "stdout",
     "output_type": "stream",
     "text": [
      "Max. age of the customer is: 65\n",
      "Min. age of the customer is: 18\n",
      "Avg. age of the customer is: 41.550066666666666\n"
     ]
    }
   ],
   "source": [
    "max_age = df['age'].max()\n",
    "min_age = df['age'].min()\n",
    "print(f'Max. age of the customer is: {max_age}\\nMin. age of the customer is: {min_age}')\n",
    "meanOfCustomer = df['age'].mean()\n",
    "print(f'Avg. age of the customer is: {meanOfCustomer}')"
   ]
  },
  {
   "cell_type": "code",
   "execution_count": null,
   "metadata": {},
   "outputs": [],
   "source": []
  },
  {
   "cell_type": "markdown",
   "metadata": {},
   "source": [
    "**5. What are the three most common customer's names?**<br>\n",
    "&#9989; [<code>**value_counts()**</code>](http://pandas.pydata.org/pandas-docs/stable/generated/pandas.Series.value_counts.html) returns object containing counts of unique values. The resulting object will be in descending order so that the first element is the most frequently-occurring element. Excludes NA values by default."
   ]
  },
  {
   "cell_type": "code",
   "execution_count": 13,
   "metadata": {},
   "outputs": [
    {
     "name": "stdout",
     "output_type": "stream",
     "text": [
      "Willie     130\n",
      "Francis    124\n",
      "Eula        86\n",
      "Name: count, dtype: int64\n"
     ]
    }
   ],
   "source": [
    "common_name = df['first'].value_counts().head(3).rename_axis(None)\n",
    "print(common_name)"
   ]
  },
  {
   "cell_type": "code",
   "execution_count": null,
   "metadata": {},
   "outputs": [],
   "source": []
  },
  {
   "cell_type": "markdown",
   "metadata": {},
   "source": [
    "**6. Two customers have the same phone number, can you find those customers**?"
   ]
  },
  {
   "cell_type": "code",
   "execution_count": 15,
   "metadata": {},
   "outputs": [
    {
     "name": "stdout",
     "output_type": "stream",
     "text": [
      "phone\n",
      "(263) 382-8004    2\n",
      "Name: phone, dtype: int64\n"
     ]
    }
   ],
   "source": [
    "duplicates_phone = df['phone'].value_counts()[df['phone'].value_counts() > 1]\n",
    "duplicates_phone.rename_axis(None)\n",
    "duplicates_phone = duplicates_phone.rename('phone')\n",
    "print(duplicates_phone)"
   ]
  },
  {
   "cell_type": "code",
   "execution_count": 16,
   "metadata": {
    "scrolled": true
   },
   "outputs": [],
   "source": [
    "# lets find what phone number is twice!\n"
   ]
  },
  {
   "cell_type": "code",
   "execution_count": 90,
   "metadata": {},
   "outputs": [
    {
     "data": {
      "text/html": [
       "<div>\n",
       "<style scoped>\n",
       "    .dataframe tbody tr th:only-of-type {\n",
       "        vertical-align: middle;\n",
       "    }\n",
       "\n",
       "    .dataframe tbody tr th {\n",
       "        vertical-align: top;\n",
       "    }\n",
       "\n",
       "    .dataframe thead th {\n",
       "        text-align: right;\n",
       "    }\n",
       "</style>\n",
       "<table border=\"1\" class=\"dataframe\">\n",
       "  <thead>\n",
       "    <tr style=\"text-align: right;\">\n",
       "      <th></th>\n",
       "      <th>prefix</th>\n",
       "      <th>first</th>\n",
       "      <th>last</th>\n",
       "      <th>email</th>\n",
       "      <th>gender</th>\n",
       "      <th>age</th>\n",
       "      <th>company</th>\n",
       "      <th>profession</th>\n",
       "      <th>phone</th>\n",
       "      <th>postal</th>\n",
       "      <th>province</th>\n",
       "      <th>cc_no</th>\n",
       "      <th>cc_exp</th>\n",
       "      <th>cc_type</th>\n",
       "      <th>price(CAD)</th>\n",
       "      <th>fav_color</th>\n",
       "      <th>ip</th>\n",
       "      <th>weekday</th>\n",
       "      <th>ampm</th>\n",
       "      <th>date</th>\n",
       "    </tr>\n",
       "  </thead>\n",
       "  <tbody>\n",
       "    <tr>\n",
       "      <th>15</th>\n",
       "      <td>Mrs.</td>\n",
       "      <td>Lilly</td>\n",
       "      <td>Tyler</td>\n",
       "      <td>kofadu@itohi.tf</td>\n",
       "      <td>Female</td>\n",
       "      <td>38</td>\n",
       "      <td>CSX Corp.</td>\n",
       "      <td>Structural Engineer</td>\n",
       "      <td>(263) 382-8004</td>\n",
       "      <td>V7K 1E3</td>\n",
       "      <td>ON</td>\n",
       "      <td>30000000000000</td>\n",
       "      <td>11/2022</td>\n",
       "      <td>Diners Club Carte Blanche</td>\n",
       "      <td>9.61</td>\n",
       "      <td>Yellow</td>\n",
       "      <td>74.124.37.227</td>\n",
       "      <td>Saturday</td>\n",
       "      <td>am</td>\n",
       "      <td>03/30/1985</td>\n",
       "    </tr>\n",
       "    <tr>\n",
       "      <th>16</th>\n",
       "      <td>Mrs.</td>\n",
       "      <td>Peter</td>\n",
       "      <td>Cain</td>\n",
       "      <td>megkosig@anazeor.gn</td>\n",
       "      <td>Male</td>\n",
       "      <td>27</td>\n",
       "      <td>Campbell Soup Co.</td>\n",
       "      <td>Insurance Adjuster</td>\n",
       "      <td>(263) 382-8004</td>\n",
       "      <td>E8T 2B4</td>\n",
       "      <td>YT</td>\n",
       "      <td>3530000000000000</td>\n",
       "      <td>03/2024</td>\n",
       "      <td>Solo</td>\n",
       "      <td>13.74</td>\n",
       "      <td>Black</td>\n",
       "      <td>25.207.141.135</td>\n",
       "      <td>Tuesday</td>\n",
       "      <td>am</td>\n",
       "      <td>08/05/1950</td>\n",
       "    </tr>\n",
       "  </tbody>\n",
       "</table>\n",
       "</div>"
      ],
      "text/plain": [
       "   prefix  first   last                email  gender  age            company  \\\n",
       "15   Mrs.  Lilly  Tyler      kofadu@itohi.tf  Female   38          CSX Corp.   \n",
       "16   Mrs.  Peter   Cain  megkosig@anazeor.gn    Male   27  Campbell Soup Co.   \n",
       "\n",
       "             profession           phone   postal province             cc_no  \\\n",
       "15  Structural Engineer  (263) 382-8004  V7K 1E3       ON    30000000000000   \n",
       "16   Insurance Adjuster  (263) 382-8004  E8T 2B4       YT  3530000000000000   \n",
       "\n",
       "     cc_exp                    cc_type  price(CAD) fav_color              ip  \\\n",
       "15  11/2022  Diners Club Carte Blanche        9.61    Yellow   74.124.37.227   \n",
       "16  03/2024                       Solo       13.74     Black  25.207.141.135   \n",
       "\n",
       "     weekday ampm        date  \n",
       "15  Saturday   am  03/30/1985  \n",
       "16   Tuesday   am  08/05/1950  "
      ]
     },
     "execution_count": 90,
     "metadata": {},
     "output_type": "execute_result"
    }
   ],
   "source": [
    "duplicate_numbers = df['phone'].value_counts()[df['phone'].value_counts() > 1].index\n",
    "\n",
    "duplicate_customers = df[df['phone'].isin(duplicate_numbers)]\n",
    "\n",
    "duplicate_customers"
   ]
  },
  {
   "cell_type": "code",
   "execution_count": 18,
   "metadata": {},
   "outputs": [],
   "source": [
    "# Now we know the phone number, let's find out the other stuff!\n"
   ]
  },
  {
   "cell_type": "markdown",
   "metadata": {},
   "source": [
    "**7. How many customers have profession \"Structural Engineer\"?**"
   ]
  },
  {
   "cell_type": "code",
   "execution_count": 20,
   "metadata": {},
   "outputs": [],
   "source": [
    "# Code here please"
   ]
  },
  {
   "cell_type": "code",
   "execution_count": null,
   "metadata": {},
   "outputs": [],
   "source": []
  },
  {
   "cell_type": "markdown",
   "metadata": {},
   "source": [
    "**8. How many male customers are 'Structural Engineer'?**"
   ]
  },
  {
   "cell_type": "code",
   "execution_count": 22,
   "metadata": {},
   "outputs": [],
   "source": [
    "# Code here please"
   ]
  },
  {
   "cell_type": "code",
   "execution_count": null,
   "metadata": {},
   "outputs": [],
   "source": []
  },
  {
   "cell_type": "markdown",
   "metadata": {},
   "source": [
    "**9. Find out the female Structural Engineers from province Alberta (AB)?** "
   ]
  },
  {
   "cell_type": "code",
   "execution_count": 24,
   "metadata": {},
   "outputs": [],
   "source": [
    "# Code here please"
   ]
  },
  {
   "cell_type": "code",
   "execution_count": null,
   "metadata": {},
   "outputs": [],
   "source": []
  },
  {
   "cell_type": "markdown",
   "metadata": {},
   "source": [
    "**10. What is the max, min and average spending?**"
   ]
  },
  {
   "cell_type": "code",
   "execution_count": 26,
   "metadata": {},
   "outputs": [],
   "source": [
    "# Code here please"
   ]
  },
  {
   "cell_type": "code",
   "execution_count": null,
   "metadata": {},
   "outputs": [],
   "source": []
  },
  {
   "cell_type": "markdown",
   "metadata": {},
   "source": [
    "**11. Who did not spend anything? Company wants to send a deal to encourage the customer to buy stuff!**"
   ]
  },
  {
   "cell_type": "code",
   "execution_count": 28,
   "metadata": {},
   "outputs": [],
   "source": [
    "# Code here please"
   ]
  },
  {
   "cell_type": "code",
   "execution_count": null,
   "metadata": {},
   "outputs": [],
   "source": []
  },
  {
   "cell_type": "markdown",
   "metadata": {},
   "source": [
    "**12. As a loyalty reward, company wants to send thanks coupon to those who spent 100CAD or more, please find out the customers?**"
   ]
  },
  {
   "cell_type": "code",
   "execution_count": 30,
   "metadata": {},
   "outputs": [],
   "source": [
    "# Code here please"
   ]
  },
  {
   "cell_type": "code",
   "execution_count": null,
   "metadata": {
    "scrolled": true
   },
   "outputs": [],
   "source": []
  },
  {
   "cell_type": "markdown",
   "metadata": {
    "collapsed": true,
    "jupyter": {
     "outputs_hidden": true
    }
   },
   "source": [
    "**13. How many emails are associated with this credit card number '5020000000000230'?**"
   ]
  },
  {
   "cell_type": "code",
   "execution_count": 32,
   "metadata": {},
   "outputs": [],
   "source": [
    "# Code here please"
   ]
  },
  {
   "cell_type": "code",
   "execution_count": null,
   "metadata": {},
   "outputs": [],
   "source": []
  },
  {
   "cell_type": "markdown",
   "metadata": {},
   "source": [
    "**14. We need to send new cards to the customers well before the expire, how many cards are expiring in 2019?**<br>\n",
    "*Use `sum()` and `count()` and see the difference in their use :)*"
   ]
  },
  {
   "cell_type": "code",
   "execution_count": 34,
   "metadata": {},
   "outputs": [],
   "source": [
    "# Code here please"
   ]
  },
  {
   "cell_type": "code",
   "execution_count": 35,
   "metadata": {},
   "outputs": [],
   "source": [
    "#cust[cust['cc_exp'].apply(lambda x: x[5:]) == '19'].count()\n"
   ]
  },
  {
   "cell_type": "markdown",
   "metadata": {
    "collapsed": true,
    "jupyter": {
     "outputs_hidden": true
    }
   },
   "source": [
    "**15. How many people use Visa as their Credit Card Provider?**"
   ]
  },
  {
   "cell_type": "code",
   "execution_count": 37,
   "metadata": {},
   "outputs": [],
   "source": [
    "# Code here please"
   ]
  },
  {
   "cell_type": "code",
   "execution_count": null,
   "metadata": {},
   "outputs": [],
   "source": []
  },
  {
   "cell_type": "markdown",
   "metadata": {
    "collapsed": true,
    "jupyter": {
     "outputs_hidden": true
    }
   },
   "source": [
    "**16. Can you find the customer who spent 100 CAD using Visa?**"
   ]
  },
  {
   "cell_type": "code",
   "execution_count": 39,
   "metadata": {},
   "outputs": [],
   "source": [
    "# Code here please"
   ]
  },
  {
   "cell_type": "code",
   "execution_count": null,
   "metadata": {},
   "outputs": [],
   "source": []
  },
  {
   "cell_type": "markdown",
   "metadata": {},
   "source": [
    "**17. What are two most common professions?**"
   ]
  },
  {
   "cell_type": "code",
   "execution_count": 41,
   "metadata": {},
   "outputs": [],
   "source": [
    "# Code here please"
   ]
  },
  {
   "cell_type": "code",
   "execution_count": null,
   "metadata": {},
   "outputs": [],
   "source": []
  },
  {
   "cell_type": "markdown",
   "metadata": {
    "collapsed": true,
    "jupyter": {
     "outputs_hidden": true
    }
   },
   "source": [
    "**18. Can you tell the top 5 most popular email providers? (e.g. gmail.com, yahoo.com, etc...)**"
   ]
  },
  {
   "cell_type": "code",
   "execution_count": 43,
   "metadata": {},
   "outputs": [],
   "source": [
    "# Code here please"
   ]
  },
  {
   "cell_type": "code",
   "execution_count": null,
   "metadata": {},
   "outputs": [],
   "source": []
  },
  {
   "cell_type": "markdown",
   "metadata": {
    "collapsed": true,
    "jupyter": {
     "outputs_hidden": true
    }
   },
   "source": [
    "**19. Is there any customer who is using email with \"am.edu\"?**<br>\n",
    "Hint: Use `lambda` expression in `apply()`. split the email address at `@`.  "
   ]
  },
  {
   "cell_type": "code",
   "execution_count": 45,
   "metadata": {},
   "outputs": [],
   "source": [
    "# Code here please"
   ]
  },
  {
   "cell_type": "code",
   "execution_count": null,
   "metadata": {},
   "outputs": [],
   "source": []
  },
  {
   "cell_type": "markdown",
   "metadata": {
    "collapsed": true,
    "jupyter": {
     "outputs_hidden": true
    }
   },
   "source": [
    "**20. Which day of the week, the store gets more customers?**"
   ]
  },
  {
   "cell_type": "code",
   "execution_count": 47,
   "metadata": {},
   "outputs": [],
   "source": [
    "# Code here please"
   ]
  },
  {
   "cell_type": "code",
   "execution_count": null,
   "metadata": {},
   "outputs": [],
   "source": []
  },
  {
   "cell_type": "markdown",
   "metadata": {
    "jp-MarkdownHeadingCollapsed": true
   },
   "source": [
    "# Excellent work!"
   ]
  }
 ],
 "metadata": {
  "kernelspec": {
   "display_name": "Python [conda env:base] *",
   "language": "python",
   "name": "conda-base-py"
  },
  "language_info": {
   "codemirror_mode": {
    "name": "ipython",
    "version": 3
   },
   "file_extension": ".py",
   "mimetype": "text/x-python",
   "name": "python",
   "nbconvert_exporter": "python",
   "pygments_lexer": "ipython3",
   "version": "3.12.7"
  }
 },
 "nbformat": 4,
 "nbformat_minor": 4
}

{
  "nbformat": 4,
  "nbformat_minor": 0,
  "metadata": {
    "colab": {
      "provenance": []
    },
    "kernelspec": {
      "name": "python3",
      "display_name": "Python 3"
    },
    "language_info": {
      "name": "python"
    }
  },
  "cells": [
    {
      "cell_type": "code",
      "execution_count": 1,
      "metadata": {
        "colab": {
          "base_uri": "https://localhost:8080/"
        },
        "id": "qufFsgPQnA_W",
        "outputId": "174a0a61-cbca-443d-fb4b-9257fb876fc5"
      },
      "outputs": [
        {
          "output_type": "stream",
          "name": "stdout",
          "text": [
            "Dataframe before Filling:\n",
            "      A   B   C     D\n",
            "0  21.0  31 NaN  46.0\n",
            "1   NaN  32 NaN  47.0\n",
            "2  22.0  33 NaN   NaN\n",
            "3   4.0  34 NaN  48.0\n",
            "4   NaN  35 NaN  49.0\n",
            "\n",
            "Total NaN values in DataFrame: 8\n",
            "\n",
            "Forward Fill:\n",
            "       A   B   C     D\n",
            "0  21.0  31 NaN  46.0\n",
            "1  21.0  32 NaN  47.0\n",
            "2  22.0  33 NaN  47.0\n",
            "3   4.0  34 NaN  48.0\n",
            "4   4.0  35 NaN  49.0\n",
            "\n",
            "Backward Fill:\n",
            "       A   B   C     D\n",
            "0  21.0  31 NaN  46.0\n",
            "1  22.0  32 NaN  47.0\n",
            "2  22.0  33 NaN  48.0\n",
            "3   4.0  34 NaN  48.0\n",
            "4   NaN  35 NaN  49.0\n",
            "\n",
            "Zero Fill:\n",
            "       A   B    C     D\n",
            "0  21.0  31  0.0  46.0\n",
            "1   0.0  32  0.0  47.0\n",
            "2  22.0  33  0.0   0.0\n",
            "3   4.0  34  0.0  48.0\n",
            "4   0.0  35  0.0  49.0\n"
          ]
        },
        {
          "output_type": "stream",
          "name": "stderr",
          "text": [
            "<ipython-input-1-b1e50f0b5e74>:21: FutureWarning: DataFrame.fillna with 'method' is deprecated and will raise in a future version. Use obj.ffill() or obj.bfill() instead.\n",
            "  df_ffill = df.fillna(method='ffill')\n",
            "<ipython-input-1-b1e50f0b5e74>:25: FutureWarning: DataFrame.fillna with 'method' is deprecated and will raise in a future version. Use obj.ffill() or obj.bfill() instead.\n",
            "  df_bfill = df.fillna(method='bfill')\n"
          ]
        }
      ],
      "source": [
        "import pandas as pd\n",
        "import numpy as np\n",
        "\n",
        "# Creating the DataFrame\n",
        "data_dic = {\n",
        "    'A': [21, np.nan, 22, 4, np.nan],\n",
        "    'B': [31, 32, 33, 34, 35],\n",
        "    'C': [np.nan, np.nan, np.nan, np.nan, np.nan],\n",
        "    'D': [46, 47, np.nan, 48, 49]\n",
        "}\n",
        "\n",
        "df = pd.DataFrame(data_dic)\n",
        "print(\"Dataframe before Filling:\")\n",
        "print(df)\n",
        "\n",
        "# Counting the total NaN values\n",
        "nan_count = df.isnull().sum().sum()\n",
        "print(\"\\nTotal NaN values in DataFrame:\", nan_count)\n",
        "\n",
        "# Filling the dataframe using Forward Fill\n",
        "df_ffill = df.fillna(method='ffill')\n",
        "print(\"\\nForward Fill:\\n\", df_ffill)\n",
        "\n",
        "# Filling the dataframe using Backward Fill\n",
        "df_bfill = df.fillna(method='bfill')\n",
        "print(\"\\nBackward Fill:\\n\", df_bfill)\n",
        "\n",
        "# Filling the dataframe with zero\n",
        "df_zero_fill = df.fillna(0)\n",
        "print(\"\\nZero Fill:\\n\", df_zero_fill)\n"
      ]
    }
  ]
}